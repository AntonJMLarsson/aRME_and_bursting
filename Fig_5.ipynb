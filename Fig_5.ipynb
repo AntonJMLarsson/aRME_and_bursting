{
 "cells": [
  {
   "cell_type": "code",
   "execution_count": null,
   "id": "patent-cooperation",
   "metadata": {},
   "outputs": [],
   "source": [
    "from inference.simulation import simBetaPoisson"
   ]
  },
  {
   "cell_type": "code",
   "execution_count": null,
   "id": "exposed-jersey",
   "metadata": {},
   "outputs": [],
   "source": [
    "import pystan"
   ]
  },
  {
   "cell_type": "code",
   "execution_count": null,
   "id": "individual-while",
   "metadata": {},
   "outputs": [],
   "source": [
    "import pandas as pd"
   ]
  },
  {
   "cell_type": "code",
   "execution_count": null,
   "id": "threaded-phrase",
   "metadata": {},
   "outputs": [],
   "source": [
    "UMI = pd.read_csv('data/nature_paper/SS3_c57_UMIs_concat.csv', index_col=0)\n",
    "params = pd.read_pickle('data/nature_paper/SS3_c57_UMIs_concat_ML.pkl')"
   ]
  },
  {
   "cell_type": "code",
   "execution_count": null,
   "id": "applicable-sailing",
   "metadata": {},
   "outputs": [],
   "source": [
    "mean_c57 = UMI.mean(axis=1)"
   ]
  },
  {
   "cell_type": "code",
   "execution_count": null,
   "id": "attractive-creation",
   "metadata": {},
   "outputs": [],
   "source": [
    "gof_df = pd.read_csv('good_fibroblast_genes.csv', index_col=0)\n",
    "goodgenes = gof_df.index.values"
   ]
  },
  {
   "cell_type": "code",
   "execution_count": null,
   "id": "nearby-destruction",
   "metadata": {},
   "outputs": [],
   "source": [
    "params = params[params[1]][0]\n",
    "params = pd.DataFrame(params)"
   ]
  },
  {
   "cell_type": "code",
   "execution_count": null,
   "id": "prospective-settle",
   "metadata": {},
   "outputs": [],
   "source": [
    "sm = pystan.StanModel(file='allelic_imbalance.stan')"
   ]
  },
  {
   "cell_type": "code",
   "execution_count": null,
   "id": "billion-freeze",
   "metadata": {},
   "outputs": [],
   "source": [
    "def simAI(pars, n = 50, p = 1):\n",
    "    a1 = np.random.binomial(simBetaPoisson(pars, size=n), p)\n",
    "    a2 = np.random.binomial(simBetaPoisson(pars, size=n), p)\n",
    "    dat = {'y':[np.sum(a1<a2), np.sum(a2<a1), np.sum(a1==a2)]}\n",
    "    samp = sm.sampling(data=dat, iter=10000, chains=4)\n",
    "    s = samp.summary()\n",
    "    summary = pd.DataFrame(s['summary'], columns=s['summary_colnames'], index=s['summary_rownames'])\n",
    "    if summary['mean']['allele1_normed'] > summary['mean']['allele2_normed']:\n",
    "        return [summary['mean']['allele1_normed'], summary['2.5%']['allele1_normed'],summary['97.5%']['allele1_normed']]\n",
    "    else:\n",
    "        return [summary['mean']['allele2_normed'], summary['2.5%']['allele2_normed'],summary['97.5%']['allele2_normed']]"
   ]
  },
  {
   "cell_type": "code",
   "execution_count": null,
   "id": "imported-hundred",
   "metadata": {},
   "outputs": [],
   "source": [
    "sim_values = {}\n",
    "\n",
    "for gene in goodgenes:\n",
    "    for n_cells in [10,20,50,100,1000,10000]:\n",
    "        print(n_cells)\n",
    "        if n_cells in sim_values.keys():\n",
    "            sim_values[n_cells] = np.append(sim_values[n_cells],simAI(params.loc[gene][0],n=n_cells))\n",
    "        else:\n",
    "            sim_values[n_cells] = np.array([simAI(params.loc[gene][0], n=n_cells)])"
   ]
  },
  {
   "cell_type": "code",
   "execution_count": null,
   "id": "precious-purse",
   "metadata": {},
   "outputs": [],
   "source": [
    "for n in sim_df:\n",
    "    cdf = sim_df[n].value_counts().sort_index().cumsum()\n",
    "    cdf.plot(label=n)\n",
    "plt.legend()\n",
    "plt.xlabel('Allelic Imbalance')\n",
    "plt.ylabel('Cumulative frequency')\n",
    "plt.savefig('figures/Fig5B.svg')\n",
    "plt.show()"
   ]
  },
  {
   "cell_type": "code",
   "execution_count": null,
   "id": "inappropriate-instrumentation",
   "metadata": {},
   "outputs": [],
   "source": [
    "fig, axes = plt.subplots(3,2, figsize=(7,7), sharex=True, sharey=True)\n",
    "for n,ax in zip(sim_df, iterAX(axes)):\n",
    "    ax.scatter(np.log10(mean_c57), sim_df[n], s=1)\n",
    "plt.tight_layout()\n",
    "plt.savefig('figures/Fig5C.svg')\n",
    "plt.show()"
   ]
  }
 ],
 "metadata": {
  "kernelspec": {
   "display_name": "Python 3",
   "language": "python",
   "name": "python3"
  },
  "language_info": {
   "codemirror_mode": {
    "name": "ipython",
    "version": 3
   },
   "file_extension": ".py",
   "mimetype": "text/x-python",
   "name": "python",
   "nbconvert_exporter": "python",
   "pygments_lexer": "ipython3",
   "version": "3.7.7"
  }
 },
 "nbformat": 4,
 "nbformat_minor": 5
}
